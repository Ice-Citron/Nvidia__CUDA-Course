{
 "cells": [
  {
   "cell_type": "markdown",
   "id": "a82f807b-33e0-4737-8182-d08b2e3b1521",
   "metadata": {},
   "source": [
    "#include <stdio.h>\n",
    "#include <unistd.h>\n",
    "\n",
    "__global__ void printNumber(int number)\n",
    "{\n",
    "  printf(\"%d\\n\", number);\n",
    "}\n",
    "\n",
    "int main()\n",
    "{\n",
    "  for (int i = 0; i < 5; ++i)\n",
    "  {\n",
    "    cudaStream_t stream;\n",
    "    cudaStreamCreate(&stream);\n",
    "    printNumber<<<1, 1, 0, stream>>>(i);\n",
    "    cudaStreamDestroy(stream);\n",
    "  }\n",
    "  cudaDeviceSynchronize();\n",
    "}\n",
    "\n",
    "whats going on here?\n",
    "\n",
    "---\n",
    "\n",
    "The provided code is a CUDA program that demonstrates the use of CUDA streams for launching kernel executions. Let's break down the program to understand what it does:\n",
    "\n",
    "### Key Components\n",
    "\n",
    "1. **CUDA Kernel (`printNumber`)**\n",
    "   - This kernel is very simple; it takes an integer `number` as an argument and prints it. Each invocation of this kernel will print the number passed to it.\n",
    "\n",
    "2. **Main Function**\n",
    "   - **Loop**: The `for` loop runs five times, iterating from 0 to 4.\n",
    "   - **Stream Creation**: Inside the loop, a new CUDA stream is created for each iteration. CUDA streams allow for concurrent execution of CUDA kernels and memory operations, provided that they have no interdependencies.\n",
    "   - **Kernel Launch**: The `printNumber` kernel is launched in the stream created for the current loop iteration. By specifying the stream in the kernel launch, each kernel execution is independent and can potentially run concurrently with others.\n",
    "   - **Stream Destruction**: After launching the kernel, the stream is destroyed using `cudaStreamDestroy()`. This cleans up the resources associated with the stream.\n",
    "   - **Synchronization**: After the loop completes all iterations, `cudaDeviceSynchronize()` is called. This function blocks the host (the CPU) until all previously issued commands to the device (the GPU) have completed. This includes all kernel executions across all streams.\n",
    "\n",
    "### Execution Flow\n",
    "\n",
    "Each iteration of the loop creates a separate CUDA stream and launches a kernel execution within that stream. Since different streams are used for each kernel launch, the CUDA runtime can, in theory, execute these kernels in parallel or out of order, depending on the capabilities of the GPU and the load on the system. This example effectively demonstrates how to use streams to manage independent kernel executions, which is useful for maximizing GPU utilization and potentially improving program performance.\n",
    "\n",
    "### Practical Usage\n",
    "\n",
    "- Using streams this way is beneficial when you have multiple independent tasks that can be executed in parallel, thus improving throughput.\n",
    "- However, in this specific example, since the task within each kernel is extremely lightweight (just printing a number), the overhead of creating and destroying streams might overshadow any performance benefits from using streams. For more substantial computations, the use of streams can significantly enhance performance by overlapping computation with memory transfers or executing multiple computations concurrently.\n",
    "\n",
    "This example serves as a basic demonstration of CUDA streams for educational purposes, highlighting how to set them up and use them within a CUDA application."
   ]
  },
  {
   "cell_type": "code",
   "execution_count": null,
   "id": "a538aaa4-6794-4401-907e-9ba92c49502c",
   "metadata": {},
   "outputs": [],
   "source": []
  }
 ],
 "metadata": {
  "kernelspec": {
   "display_name": "Python 3 (ipykernel)",
   "language": "python",
   "name": "python3"
  },
  "language_info": {
   "codemirror_mode": {
    "name": "ipython",
    "version": 3
   },
   "file_extension": ".py",
   "mimetype": "text/x-python",
   "name": "python",
   "nbconvert_exporter": "python",
   "pygments_lexer": "ipython3",
   "version": "3.11.4"
  }
 },
 "nbformat": 4,
 "nbformat_minor": 5
}
